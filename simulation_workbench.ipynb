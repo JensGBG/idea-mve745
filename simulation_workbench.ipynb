{
 "cells": [
  {
   "cell_type": "code",
   "execution_count": 9,
   "id": "2df9aad0",
   "metadata": {},
   "outputs": [],
   "source": [
    "import numpy as np\n",
    "import pandas as pd\n",
    "from matplotlib import pyplot as plt"
   ]
  },
  {
   "cell_type": "code",
   "execution_count": 10,
   "id": "cd2e7d64",
   "metadata": {},
   "outputs": [
    {
     "name": "stdout",
     "output_type": "stream",
     "text": [
      "For: -1 of x\n",
      "Trader will be affected by cashflow: 0.9900990099009901 of y\n",
      "Current quantity of x: 101\n",
      "Current quantity of y: 99.00990099009901\n",
      "10000.0\n"
     ]
    }
   ],
   "source": [
    "class AMM:\n",
    "    def __init__(self, x=100_000, y=100_000, comission=0.0):\n",
    "        self.x = x\n",
    "        self.y = y\n",
    "        self.c_0 = x*y\n",
    "        self.comission = comission\n",
    "    \n",
    "    def get_c(self):\n",
    "        return self.x * self.y\n",
    "\n",
    "    def get_trade_offer(self, asset_type: str, order: float):\n",
    "        '''\n",
    "        Takes in:\n",
    "            asset_type: 0 for x, 1 for y.\n",
    "            order: What the person wants to get. Positive means the person wants to buy, negative the person wants to sell.\n",
    "        returns:\n",
    "            What the trader will need to pay or get payed. If negative value, the trader needs to pay the given amount, if positive the trader gets payed this amount.\n",
    "        '''\n",
    "        assert (asset_type=='x' or asset_type=='y')\n",
    "\n",
    "        # Cashflow for AMM becomes opposite of order.\n",
    "        delta_amm = -order\n",
    "        x_0 = self.x\n",
    "        y_0 = self.y\n",
    "\n",
    "        if asset_type=='x':\n",
    "            x = x_0 + delta_amm\n",
    "            if x > 0: # Assert that AMM has enough asset that are asked for.\n",
    "                delta_trader = y_0 * delta_amm / (x_0 + delta_amm) # This is the cashflow the AMM will affected with.\n",
    "                return delta_trader # Returns the cashflow that the trader will be affected with.\n",
    "            else:\n",
    "                return None\n",
    "\n",
    "        elif asset_type=='y':\n",
    "            y = y_0 + delta_amm\n",
    "            if y > 0:\n",
    "                delta_trader = x_0 * delta_amm / (y_0 + delta_amm)\n",
    "                return delta_trader\n",
    "            else:\n",
    "                return None\n",
    "\n",
    "    def trade(self, asset_type:str, order: float):\n",
    "        '''\n",
    "        Takes in:\n",
    "            asset_type: 0 for x, 1 for y.\n",
    "            order: What the person wants to get. Positive means the person wants to buy, negative the person wants to sell.\n",
    "        '''\n",
    "        assert (asset_type=='x' or asset_type=='y')\n",
    "        delta_trader = self.get_trade_offer(asset_type=asset_type, order=order)\n",
    "        if delta_trader==None:\n",
    "            print(\"TRADE DID NOT GO THROUGH! Not enough assets in liquidity pool!\")\n",
    "\n",
    "        if asset_type=='x':\n",
    "            self.x = self.x - order\n",
    "            self.y = self.y - delta_trader\n",
    "\n",
    "        elif asset_type=='y':\n",
    "            self.x = self.x - delta_trader\n",
    "            self.y = self.y - order\n",
    "\n",
    "        return None\n",
    "amm = AMM(x=100, y=100, comission=0.0)\n",
    "asset_type = 'x'\n",
    "order = -1\n",
    "\n",
    "asset_types = {'x', 'y'}\n",
    "other_asset = list(asset_types - {asset_type})[0]\n",
    "offer = amm.get_trade_offer(asset_type=asset_type, order=order)\n",
    "print(f\"For: {order} of {asset_type}\\nTrader will be affected by cashflow: {offer} of {other_asset}\")\n",
    "\n",
    "amm.trade(asset_type=asset_type, order=order)\n",
    "c = amm.get_c()\n",
    "print(f\"Current quantity of x: {amm.x}\")\n",
    "print(f\"Current quantity of y: {amm.y}\")\n",
    "print(c)"
   ]
  },
  {
   "cell_type": "code",
   "execution_count": 14,
   "id": "66963054",
   "metadata": {},
   "outputs": [
    {
     "data": {
      "text/plain": [
       "Text(0.5, 1.0, 'Cumulative distribution of buyers and sellers of $x$')"
      ]
     },
     "execution_count": 14,
     "metadata": {},
     "output_type": "execute_result"
    },
    {
     "data": {
      "image/png": "[encoded data removed]",
      "text/plain": [
       "<Figure size 640x480 with 1 Axes>"
      ]
     },
     "metadata": {},
     "output_type": "display_data"
    }
   ],
   "source": [
    "def create_market_participants(mean, param_1, N=1000):\n",
    "    opinions = np.random.lognormal(mean=mean, sigma=param_1, size=N)\n",
    "    directions = np.random.choice([-1, 1], size=N)\n",
    "\n",
    "    buyers = opinions[np.where(directions==1)]\n",
    "    sellers = opinions[np.where(directions==-1)]\n",
    "\n",
    "    buyers = np.sort(buyers)\n",
    "    sellers = np.sort(sellers)\n",
    "\n",
    "    return buyers, sellers\n",
    "\n",
    "N = 1000\n",
    "buyers, sellers = create_market_participants(mean=0, param_1=0.2, N=N)\n",
    "\n",
    "buyers_quantity = np.arange(len(buyers), 0, -1)\n",
    "sellers_quantity = np.arange(1, len(sellers) + 1, 1)\n",
    "plt.step(buyers, buyers_quantity, label='Buyers')\n",
    "plt.step(sellers, sellers_quantity, label='Sellers')\n",
    "plt.title(\"Cumulative distribution of buyers and sellers of $x$\")"
   ]
  },
  {
   "cell_type": "code",
   "execution_count": null,
   "id": "82d9763f",
   "metadata": {},
   "outputs": [],
   "source": []
  }
 ],
 "metadata": {
  "kernelspec": {
   "display_name": ".venv",
   "language": "python",
   "name": "python3"
  },
  "language_info": {
   "codemirror_mode": {
    "name": "ipython",
    "version": 3
   },
   "file_extension": ".py",
   "mimetype": "text/x-python",
   "name": "python",
   "nbconvert_exporter": "python",
   "pygments_lexer": "ipython3",
   "version": "3.12.10"
  }
 },
 "nbformat": 4,
 "nbformat_minor": 5
}
